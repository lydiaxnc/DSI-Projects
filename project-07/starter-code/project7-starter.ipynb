{
 "cells": [
  {
   "cell_type": "markdown",
   "metadata": {
    "focus": true,
    "id": "d21ca30e-294e-4146-8e4f-a5c331f7a36e"
   },
   "source": [
    "# Project 7 \n",
    "\n",
    "In this project, you will implement the the clustering techniques that you've learned this week. \n",
    "\n",
    "#### Step 1: Load the python libraries that you will need for this project "
   ]
  },
  {
   "cell_type": "code",
   "execution_count": 3,
   "metadata": {
    "collapsed": true,
    "focus": false,
    "id": "78c3bb3f-f513-437b-94f8-bc363b6e7a8b"
   },
   "outputs": [],
   "source": [
    "import pandas as pd \n",
    "import matplotlib as plt\n",
    "import numpy as np\n",
    "import sklearn\n",
    "import psycopg2 as psy"
   ]
  },
  {
   "cell_type": "markdown",
   "metadata": {
    "focus": false,
    "id": "2c6f52ae-e694-463c-87d8-1974726c2e7a"
   },
   "source": [
    "#### Step 2: Examine your data "
   ]
  },
  {
   "cell_type": "code",
   "execution_count": 8,
   "metadata": {
    "collapsed": false,
    "focus": false,
    "id": "0f64db5a-e176-46a1-a10b-8c7db09437bc"
   },
   "outputs": [],
   "source": [
    "airport = pd.read_csv('../assets/airports.csv')"
   ]
  },
  {
   "cell_type": "code",
   "execution_count": 24,
   "metadata": {
    "collapsed": false
   },
   "outputs": [
    {
     "data": {
      "text/html": [
       "<div>\n",
       "<table border=\"1\" class=\"dataframe\">\n",
       "  <thead>\n",
       "    <tr style=\"text-align: right;\">\n",
       "      <th></th>\n",
       "      <th>Key</th>\n",
       "      <th>LocID</th>\n",
       "      <th>AP_NAME</th>\n",
       "      <th>ALIAS</th>\n",
       "      <th>Facility Type</th>\n",
       "      <th>FAA REGION</th>\n",
       "      <th>COUNTY</th>\n",
       "      <th>CITY</th>\n",
       "      <th>STATE</th>\n",
       "      <th>AP Type</th>\n",
       "      <th>Latitude</th>\n",
       "      <th>Longitude</th>\n",
       "      <th>Boundary Data Available</th>\n",
       "    </tr>\n",
       "  </thead>\n",
       "  <tbody>\n",
       "    <tr>\n",
       "      <th>0</th>\n",
       "      <td>3443.0</td>\n",
       "      <td>STX</td>\n",
       "      <td>HENRY E ROHLSEN</td>\n",
       "      <td>Henry E Rohlsen Int'l Airport</td>\n",
       "      <td>Airport</td>\n",
       "      <td>ASO</td>\n",
       "      <td>-VIRGIN ISLANDS-</td>\n",
       "      <td>CHRISTIANSTED</td>\n",
       "      <td>VI</td>\n",
       "      <td>Public Use</td>\n",
       "      <td>17.701556</td>\n",
       "      <td>-64.801722</td>\n",
       "      <td>Yes</td>\n",
       "    </tr>\n",
       "    <tr>\n",
       "      <th>1</th>\n",
       "      <td>5088.0</td>\n",
       "      <td>X64</td>\n",
       "      <td>PATILLAS</td>\n",
       "      <td>NaN</td>\n",
       "      <td>Airport</td>\n",
       "      <td>ASO</td>\n",
       "      <td>#NAME?</td>\n",
       "      <td>PATILLAS</td>\n",
       "      <td>PR</td>\n",
       "      <td>Public Use</td>\n",
       "      <td>17.982189</td>\n",
       "      <td>-66.019330</td>\n",
       "      <td>No</td>\n",
       "    </tr>\n",
       "    <tr>\n",
       "      <th>2</th>\n",
       "      <td>2886.0</td>\n",
       "      <td>PSE</td>\n",
       "      <td>MERCEDITA</td>\n",
       "      <td>Aeropuerto Mercedita</td>\n",
       "      <td>Airport</td>\n",
       "      <td>ASO</td>\n",
       "      <td>#NAME?</td>\n",
       "      <td>PONCE</td>\n",
       "      <td>PR</td>\n",
       "      <td>Public Use</td>\n",
       "      <td>18.008306</td>\n",
       "      <td>-66.563028</td>\n",
       "      <td>Yes</td>\n",
       "    </tr>\n",
       "    <tr>\n",
       "      <th>3</th>\n",
       "      <td>2879.0</td>\n",
       "      <td>VQS</td>\n",
       "      <td>ANTONIO RIVERA RODRIGUEZ</td>\n",
       "      <td>Aeropuerto Antonio Rivera Rodr�guez</td>\n",
       "      <td>Airport</td>\n",
       "      <td>ASO</td>\n",
       "      <td>#NAME?</td>\n",
       "      <td>ISLA DE VIEQUES</td>\n",
       "      <td>PR</td>\n",
       "      <td>Public Use</td>\n",
       "      <td>18.134811</td>\n",
       "      <td>-65.493617</td>\n",
       "      <td>Yes</td>\n",
       "    </tr>\n",
       "    <tr>\n",
       "      <th>4</th>\n",
       "      <td>2883.0</td>\n",
       "      <td>X63</td>\n",
       "      <td>HUMACAO</td>\n",
       "      <td>Aeropuerto Regional De Humacao</td>\n",
       "      <td>Airport</td>\n",
       "      <td>ASO</td>\n",
       "      <td>#NAME?</td>\n",
       "      <td>HUMACAO</td>\n",
       "      <td>PR</td>\n",
       "      <td>Public Use</td>\n",
       "      <td>18.138017</td>\n",
       "      <td>-65.800718</td>\n",
       "      <td>Yes</td>\n",
       "    </tr>\n",
       "  </tbody>\n",
       "</table>\n",
       "</div>"
      ],
      "text/plain": [
       "      Key LocID                   AP_NAME  \\\n",
       "0  3443.0   STX           HENRY E ROHLSEN   \n",
       "1  5088.0   X64                  PATILLAS   \n",
       "2  2886.0   PSE                 MERCEDITA   \n",
       "3  2879.0   VQS  ANTONIO RIVERA RODRIGUEZ   \n",
       "4  2883.0   X63                   HUMACAO   \n",
       "\n",
       "                                 ALIAS Facility Type FAA REGION  \\\n",
       "0        Henry E Rohlsen Int'l Airport       Airport        ASO   \n",
       "1                                  NaN       Airport        ASO   \n",
       "2                 Aeropuerto Mercedita       Airport        ASO   \n",
       "3  Aeropuerto Antonio Rivera Rodr�guez       Airport        ASO   \n",
       "4       Aeropuerto Regional De Humacao       Airport        ASO   \n",
       "\n",
       "             COUNTY             CITY STATE     AP Type   Latitude  Longitude  \\\n",
       "0  -VIRGIN ISLANDS-    CHRISTIANSTED    VI  Public Use  17.701556 -64.801722   \n",
       "1            #NAME?         PATILLAS    PR  Public Use  17.982189 -66.019330   \n",
       "2            #NAME?            PONCE    PR  Public Use  18.008306 -66.563028   \n",
       "3            #NAME?  ISLA DE VIEQUES    PR  Public Use  18.134811 -65.493617   \n",
       "4            #NAME?          HUMACAO    PR  Public Use  18.138017 -65.800718   \n",
       "\n",
       "  Boundary Data Available  \n",
       "0                     Yes  \n",
       "1                      No  \n",
       "2                     Yes  \n",
       "3                     Yes  \n",
       "4                     Yes  "
      ]
     },
     "execution_count": 24,
     "metadata": {},
     "output_type": "execute_result"
    }
   ],
   "source": [
    "airport.head()"
   ]
  },
  {
   "cell_type": "code",
   "execution_count": 25,
   "metadata": {
    "collapsed": false
   },
   "outputs": [
    {
     "name": "stdout",
     "output_type": "stream",
     "text": [
      "<class 'pandas.core.frame.DataFrame'>\n",
      "RangeIndex: 5167 entries, 0 to 5166\n",
      "Data columns (total 13 columns):\n",
      "Key                        5164 non-null float64\n",
      "LocID                      5152 non-null object\n",
      "AP_NAME                    5164 non-null object\n",
      "ALIAS                      3498 non-null object\n",
      "Facility Type              5164 non-null object\n",
      "FAA REGION                 5164 non-null object\n",
      "COUNTY                     5164 non-null object\n",
      "CITY                       5164 non-null object\n",
      "STATE                      5164 non-null object\n",
      "AP Type                    5164 non-null object\n",
      "Latitude                   5164 non-null float64\n",
      "Longitude                  5164 non-null float64\n",
      "Boundary Data Available    5164 non-null object\n",
      "dtypes: float64(3), object(10)\n",
      "memory usage: 524.8+ KB\n"
     ]
    }
   ],
   "source": [
    "airport.info()"
   ]
  },
  {
   "cell_type": "code",
   "execution_count": 14,
   "metadata": {
    "collapsed": false
   },
   "outputs": [],
   "source": [
    "cancel = pd.read_csv('../assets/airport_cancellations.csv')"
   ]
  },
  {
   "cell_type": "code",
   "execution_count": 22,
   "metadata": {
    "collapsed": false
   },
   "outputs": [
    {
     "data": {
      "text/html": [
       "<div>\n",
       "<table border=\"1\" class=\"dataframe\">\n",
       "  <thead>\n",
       "    <tr style=\"text-align: right;\">\n",
       "      <th></th>\n",
       "      <th>Airport</th>\n",
       "      <th>Year</th>\n",
       "      <th>Departure Cancellations</th>\n",
       "      <th>Arrival Cancellations</th>\n",
       "      <th>Departure Diversions</th>\n",
       "      <th>Arrival Diversions</th>\n",
       "    </tr>\n",
       "  </thead>\n",
       "  <tbody>\n",
       "    <tr>\n",
       "      <th>0</th>\n",
       "      <td>ABQ</td>\n",
       "      <td>2004.0</td>\n",
       "      <td>242.0</td>\n",
       "      <td>235.0</td>\n",
       "      <td>71.0</td>\n",
       "      <td>46.0</td>\n",
       "    </tr>\n",
       "    <tr>\n",
       "      <th>1</th>\n",
       "      <td>ABQ</td>\n",
       "      <td>2005.0</td>\n",
       "      <td>221.0</td>\n",
       "      <td>190.0</td>\n",
       "      <td>61.0</td>\n",
       "      <td>33.0</td>\n",
       "    </tr>\n",
       "    <tr>\n",
       "      <th>2</th>\n",
       "      <td>ABQ</td>\n",
       "      <td>2006.0</td>\n",
       "      <td>392.0</td>\n",
       "      <td>329.0</td>\n",
       "      <td>71.0</td>\n",
       "      <td>124.0</td>\n",
       "    </tr>\n",
       "    <tr>\n",
       "      <th>3</th>\n",
       "      <td>ABQ</td>\n",
       "      <td>2007.0</td>\n",
       "      <td>366.0</td>\n",
       "      <td>304.0</td>\n",
       "      <td>107.0</td>\n",
       "      <td>45.0</td>\n",
       "    </tr>\n",
       "    <tr>\n",
       "      <th>4</th>\n",
       "      <td>ABQ</td>\n",
       "      <td>2008.0</td>\n",
       "      <td>333.0</td>\n",
       "      <td>300.0</td>\n",
       "      <td>79.0</td>\n",
       "      <td>42.0</td>\n",
       "    </tr>\n",
       "  </tbody>\n",
       "</table>\n",
       "</div>"
      ],
      "text/plain": [
       "  Airport    Year  Departure Cancellations  Arrival Cancellations  \\\n",
       "0     ABQ  2004.0                    242.0                  235.0   \n",
       "1     ABQ  2005.0                    221.0                  190.0   \n",
       "2     ABQ  2006.0                    392.0                  329.0   \n",
       "3     ABQ  2007.0                    366.0                  304.0   \n",
       "4     ABQ  2008.0                    333.0                  300.0   \n",
       "\n",
       "   Departure Diversions  Arrival Diversions  \n",
       "0                  71.0                46.0  \n",
       "1                  61.0                33.0  \n",
       "2                  71.0               124.0  \n",
       "3                 107.0                45.0  \n",
       "4                  79.0                42.0  "
      ]
     },
     "execution_count": 22,
     "metadata": {},
     "output_type": "execute_result"
    }
   ],
   "source": [
    "cancel.head()"
   ]
  },
  {
   "cell_type": "code",
   "execution_count": 23,
   "metadata": {
    "collapsed": false
   },
   "outputs": [
    {
     "name": "stdout",
     "output_type": "stream",
     "text": [
      "<class 'pandas.core.frame.DataFrame'>\n",
      "RangeIndex: 805 entries, 0 to 804\n",
      "Data columns (total 6 columns):\n",
      "Airport                    805 non-null object\n",
      "Year                       805 non-null float64\n",
      "Departure Cancellations    805 non-null float64\n",
      "Arrival Cancellations      805 non-null float64\n",
      "Departure Diversions       805 non-null float64\n",
      "Arrival Diversions         805 non-null float64\n",
      "dtypes: float64(5), object(1)\n",
      "memory usage: 37.8+ KB\n"
     ]
    }
   ],
   "source": [
    "cancel.info()"
   ]
  },
  {
   "cell_type": "code",
   "execution_count": 20,
   "metadata": {
    "collapsed": false
   },
   "outputs": [],
   "source": [
    "operation = pd.read_csv('../assets/airport_operations.csv')"
   ]
  },
  {
   "cell_type": "code",
   "execution_count": 26,
   "metadata": {
    "collapsed": false
   },
   "outputs": [
    {
     "data": {
      "text/html": [
       "<div>\n",
       "<table border=\"1\" class=\"dataframe\">\n",
       "  <thead>\n",
       "    <tr style=\"text-align: right;\">\n",
       "      <th></th>\n",
       "      <th>airport</th>\n",
       "      <th>year</th>\n",
       "      <th>departures for metric computation</th>\n",
       "      <th>arrivals for metric computation</th>\n",
       "      <th>percent on-time gate departures</th>\n",
       "      <th>percent on-time airport departures</th>\n",
       "      <th>percent on-time gate arrivals</th>\n",
       "      <th>average_gate_departure_delay</th>\n",
       "      <th>average_taxi_out_time</th>\n",
       "      <th>average taxi out delay</th>\n",
       "      <th>average airport departure delay</th>\n",
       "      <th>average airborne delay</th>\n",
       "      <th>average taxi in delay</th>\n",
       "      <th>average block delay</th>\n",
       "      <th>average gate arrival delay</th>\n",
       "    </tr>\n",
       "  </thead>\n",
       "  <tbody>\n",
       "    <tr>\n",
       "      <th>0</th>\n",
       "      <td>ABQ</td>\n",
       "      <td>2004</td>\n",
       "      <td>53971</td>\n",
       "      <td>53818</td>\n",
       "      <td>0.8030</td>\n",
       "      <td>0.7809</td>\n",
       "      <td>0.7921</td>\n",
       "      <td>10.38</td>\n",
       "      <td>9.89</td>\n",
       "      <td>2.43</td>\n",
       "      <td>12.10</td>\n",
       "      <td>2.46</td>\n",
       "      <td>0.83</td>\n",
       "      <td>2.55</td>\n",
       "      <td>10.87</td>\n",
       "    </tr>\n",
       "    <tr>\n",
       "      <th>1</th>\n",
       "      <td>ABQ</td>\n",
       "      <td>2005</td>\n",
       "      <td>51829</td>\n",
       "      <td>51877</td>\n",
       "      <td>0.8140</td>\n",
       "      <td>0.7922</td>\n",
       "      <td>0.8001</td>\n",
       "      <td>9.60</td>\n",
       "      <td>9.79</td>\n",
       "      <td>2.29</td>\n",
       "      <td>11.20</td>\n",
       "      <td>2.26</td>\n",
       "      <td>0.89</td>\n",
       "      <td>2.34</td>\n",
       "      <td>10.24</td>\n",
       "    </tr>\n",
       "    <tr>\n",
       "      <th>2</th>\n",
       "      <td>ABQ</td>\n",
       "      <td>2006</td>\n",
       "      <td>49682</td>\n",
       "      <td>51199</td>\n",
       "      <td>0.7983</td>\n",
       "      <td>0.7756</td>\n",
       "      <td>0.7746</td>\n",
       "      <td>10.84</td>\n",
       "      <td>9.89</td>\n",
       "      <td>2.16</td>\n",
       "      <td>12.33</td>\n",
       "      <td>2.12</td>\n",
       "      <td>0.84</td>\n",
       "      <td>2.66</td>\n",
       "      <td>11.82</td>\n",
       "    </tr>\n",
       "    <tr>\n",
       "      <th>3</th>\n",
       "      <td>ABQ</td>\n",
       "      <td>2007</td>\n",
       "      <td>53255</td>\n",
       "      <td>53611</td>\n",
       "      <td>0.8005</td>\n",
       "      <td>0.7704</td>\n",
       "      <td>0.7647</td>\n",
       "      <td>11.29</td>\n",
       "      <td>10.34</td>\n",
       "      <td>2.40</td>\n",
       "      <td>12.95</td>\n",
       "      <td>2.19</td>\n",
       "      <td>1.29</td>\n",
       "      <td>3.06</td>\n",
       "      <td>12.71</td>\n",
       "    </tr>\n",
       "    <tr>\n",
       "      <th>4</th>\n",
       "      <td>ABQ</td>\n",
       "      <td>2008</td>\n",
       "      <td>49589</td>\n",
       "      <td>49512</td>\n",
       "      <td>0.8103</td>\n",
       "      <td>0.7844</td>\n",
       "      <td>0.7875</td>\n",
       "      <td>10.79</td>\n",
       "      <td>10.41</td>\n",
       "      <td>2.41</td>\n",
       "      <td>12.32</td>\n",
       "      <td>1.82</td>\n",
       "      <td>1.03</td>\n",
       "      <td>2.79</td>\n",
       "      <td>11.48</td>\n",
       "    </tr>\n",
       "  </tbody>\n",
       "</table>\n",
       "</div>"
      ],
      "text/plain": [
       "  airport  year  departures for metric computation  \\\n",
       "0     ABQ  2004                              53971   \n",
       "1     ABQ  2005                              51829   \n",
       "2     ABQ  2006                              49682   \n",
       "3     ABQ  2007                              53255   \n",
       "4     ABQ  2008                              49589   \n",
       "\n",
       "   arrivals for metric computation  percent on-time gate departures  \\\n",
       "0                            53818                           0.8030   \n",
       "1                            51877                           0.8140   \n",
       "2                            51199                           0.7983   \n",
       "3                            53611                           0.8005   \n",
       "4                            49512                           0.8103   \n",
       "\n",
       "   percent on-time airport departures  percent on-time gate arrivals  \\\n",
       "0                              0.7809                         0.7921   \n",
       "1                              0.7922                         0.8001   \n",
       "2                              0.7756                         0.7746   \n",
       "3                              0.7704                         0.7647   \n",
       "4                              0.7844                         0.7875   \n",
       "\n",
       "   average_gate_departure_delay  average_taxi_out_time  \\\n",
       "0                         10.38                   9.89   \n",
       "1                          9.60                   9.79   \n",
       "2                         10.84                   9.89   \n",
       "3                         11.29                  10.34   \n",
       "4                         10.79                  10.41   \n",
       "\n",
       "   average taxi out delay  average airport departure delay  \\\n",
       "0                    2.43                            12.10   \n",
       "1                    2.29                            11.20   \n",
       "2                    2.16                            12.33   \n",
       "3                    2.40                            12.95   \n",
       "4                    2.41                            12.32   \n",
       "\n",
       "   average airborne delay  average taxi in delay  average block delay  \\\n",
       "0                    2.46                   0.83                 2.55   \n",
       "1                    2.26                   0.89                 2.34   \n",
       "2                    2.12                   0.84                 2.66   \n",
       "3                    2.19                   1.29                 3.06   \n",
       "4                    1.82                   1.03                 2.79   \n",
       "\n",
       "   average gate arrival delay  \n",
       "0                       10.87  \n",
       "1                       10.24  \n",
       "2                       11.82  \n",
       "3                       12.71  \n",
       "4                       11.48  "
      ]
     },
     "execution_count": 26,
     "metadata": {},
     "output_type": "execute_result"
    }
   ],
   "source": [
    "operation.head()"
   ]
  },
  {
   "cell_type": "code",
   "execution_count": 27,
   "metadata": {
    "collapsed": false
   },
   "outputs": [
    {
     "name": "stdout",
     "output_type": "stream",
     "text": [
      "<class 'pandas.core.frame.DataFrame'>\n",
      "RangeIndex: 841 entries, 0 to 840\n",
      "Data columns (total 15 columns):\n",
      "airport                               841 non-null object\n",
      "year                                  841 non-null int64\n",
      "departures for metric computation     841 non-null int64\n",
      "arrivals for metric computation       841 non-null int64\n",
      "percent on-time gate departures       841 non-null float64\n",
      "percent on-time airport departures    841 non-null float64\n",
      "percent on-time gate arrivals         841 non-null float64\n",
      "average_gate_departure_delay          841 non-null float64\n",
      "average_taxi_out_time                 841 non-null float64\n",
      "average taxi out delay                841 non-null float64\n",
      "average airport departure delay       841 non-null float64\n",
      "average airborne delay                841 non-null float64\n",
      "average taxi in delay                 841 non-null float64\n",
      "average block delay                   841 non-null float64\n",
      "average gate arrival delay            841 non-null float64\n",
      "dtypes: float64(11), int64(3), object(1)\n",
      "memory usage: 98.6+ KB\n"
     ]
    }
   ],
   "source": [
    "operation.info()"
   ]
  },
  {
   "cell_type": "markdown",
   "metadata": {
    "focus": false,
    "id": "3690c265-ac0f-484d-ac79-f42da341e4cd"
   },
   "source": [
    "### Intro: Write a problem statement / aim for this project"
   ]
  },
  {
   "cell_type": "markdown",
   "metadata": {
    "focus": false,
    "id": "58297e17-aa21-4d1d-a46b-a36a4b92aac7"
   },
   "source": []
  },
  {
   "cell_type": "markdown",
   "metadata": {
    "focus": false,
    "id": "a3cccc0e-8531-4dfe-bb23-8c632aa7404e"
   },
   "source": [
    "### Part 1: Create a PostgreSQL database "
   ]
  },
  {
   "cell_type": "markdown",
   "metadata": {
    "focus": false,
    "id": "b51ca850-aa85-43e1-b7cd-627af62f5fe8"
   },
   "source": [
    "#### 1. Let's create a database where we can house our airport data"
   ]
  },
  {
   "cell_type": "code",
   "execution_count": 83,
   "metadata": {
    "collapsed": false
   },
   "outputs": [],
   "source": [
    "from psycopg2 import connect\n",
    "import sys\n",
    "from psycopg2.extensions import ISOLATION_LEVEL_AUTOCOMMIT\n",
    "\n",
    "con = connect(user='Lydia', host='localhost')\n",
    "con.set_isolation_level(ISOLATION_LEVEL_AUTOCOMMIT)\n",
    "cur = con.cursor()\n",
    "cur.execute('create Database airport;')\n",
    "# cur.execute('drop Database airport;')"
   ]
  },
  {
   "cell_type": "markdown",
   "metadata": {
    "focus": false,
    "id": "b40e2d2b-5535-42c6-94d6-083b3e428b14"
   },
   "source": [
    "Load our csv files into tables"
   ]
  },
  {
   "cell_type": "code",
   "execution_count": 137,
   "metadata": {
    "collapsed": false,
    "focus": false,
    "id": "5cb41423-7467-4005-964c-9b423c3af977"
   },
   "outputs": [],
   "source": [
    "from sqlalchemy import create_engine\n",
    "\n",
    "engine = create_engine('postgresql://Lydia@localhost:5432/airport')"
   ]
  },
  {
   "cell_type": "code",
   "execution_count": null,
   "metadata": {
    "collapsed": true
   },
   "outputs": [],
   "source": [
    "def load_to_sql(name):\n",
    "    df = pd.read_csv('../assets/{}.csv'.format(name), encoding='latin1')\n",
    "    df.to_sql(name, engine, flavor='postgres', if_exists='replace')\n",
    "    print \"done\", name"
   ]
  },
  {
   "cell_type": "code",
   "execution_count": 138,
   "metadata": {
    "collapsed": false
   },
   "outputs": [
    {
     "name": "stdout",
     "output_type": "stream",
     "text": [
      "done airports\n",
      "done airport_cancellations\n",
      "done airport_operations\n"
     ]
    }
   ],
   "source": [
    "load_to_sql('airports')\n",
    "load_to_sql('airport_cancellations')\n",
    "load_to_sql('airport_operations')"
   ]
  },
  {
   "cell_type": "markdown",
   "metadata": {
    "focus": false,
    "id": "a0ca5023-4860-4d86-ae40-218d120ece17"
   },
   "source": [
    "Join airport_cancellations.csv and airports.csv into one table"
   ]
  },
  {
   "cell_type": "code",
   "execution_count": 144,
   "metadata": {
    "collapsed": false,
    "focus": false,
    "id": "0192b97c-b99f-498b-b64b-f857451b5218"
   },
   "outputs": [
    {
     "data": {
      "text/plain": [
       "u'Connected: Lydia@airport'"
      ]
     },
     "execution_count": 144,
     "metadata": {},
     "output_type": "execute_result"
    }
   ],
   "source": [
    "%sql postgresql://Lydia@localhost:5432/airport"
   ]
  },
  {
   "cell_type": "code",
   "execution_count": 182,
   "metadata": {
    "collapsed": false
   },
   "outputs": [
    {
     "name": "stdout",
     "output_type": "stream",
     "text": [
      "5 rows affected.\n"
     ]
    },
    {
     "data": {
      "text/html": [
       "<table>\n",
       "    <tr>\n",
       "        <th>index</th>\n",
       "        <th>Key</th>\n",
       "        <th>LocID</th>\n",
       "        <th>AP_NAME</th>\n",
       "        <th>ALIAS</th>\n",
       "        <th>Facility Type</th>\n",
       "        <th>faa</th>\n",
       "        <th>COUNTY</th>\n",
       "        <th>CITY</th>\n",
       "        <th>STATE</th>\n",
       "        <th>AP Type</th>\n",
       "        <th>Latitude</th>\n",
       "        <th>Longitude</th>\n",
       "        <th>Boundary Data Available</th>\n",
       "    </tr>\n",
       "    <tr>\n",
       "        <td>0</td>\n",
       "        <td>3443.0</td>\n",
       "        <td>STX</td>\n",
       "        <td>HENRY E ROHLSEN</td>\n",
       "        <td>Henry E Rohlsen Int'l Airport</td>\n",
       "        <td>Airport</td>\n",
       "        <td>ASO</td>\n",
       "        <td>-VIRGIN ISLANDS-</td>\n",
       "        <td>CHRISTIANSTED</td>\n",
       "        <td>VI</td>\n",
       "        <td>Public Use</td>\n",
       "        <td>17.701556</td>\n",
       "        <td>-64.801722</td>\n",
       "        <td>Yes</td>\n",
       "    </tr>\n",
       "    <tr>\n",
       "        <td>1</td>\n",
       "        <td>5088.0</td>\n",
       "        <td>X64</td>\n",
       "        <td>PATILLAS</td>\n",
       "        <td>None</td>\n",
       "        <td>Airport</td>\n",
       "        <td>ASO</td>\n",
       "        <td>#NAME?</td>\n",
       "        <td>PATILLAS</td>\n",
       "        <td>PR</td>\n",
       "        <td>Public Use</td>\n",
       "        <td>17.982189</td>\n",
       "        <td>-66.01933</td>\n",
       "        <td>No</td>\n",
       "    </tr>\n",
       "    <tr>\n",
       "        <td>2</td>\n",
       "        <td>2886.0</td>\n",
       "        <td>PSE</td>\n",
       "        <td>MERCEDITA</td>\n",
       "        <td>Aeropuerto Mercedita</td>\n",
       "        <td>Airport</td>\n",
       "        <td>ASO</td>\n",
       "        <td>#NAME?</td>\n",
       "        <td>PONCE</td>\n",
       "        <td>PR</td>\n",
       "        <td>Public Use</td>\n",
       "        <td>18.008306</td>\n",
       "        <td>-66.563028</td>\n",
       "        <td>Yes</td>\n",
       "    </tr>\n",
       "    <tr>\n",
       "        <td>3</td>\n",
       "        <td>2879.0</td>\n",
       "        <td>VQS</td>\n",
       "        <td>ANTONIO RIVERA RODRIGUEZ</td>\n",
       "        <td>Aeropuerto Antonio Rivera Rodrï¿½guez</td>\n",
       "        <td>Airport</td>\n",
       "        <td>ASO</td>\n",
       "        <td>#NAME?</td>\n",
       "        <td>ISLA DE VIEQUES</td>\n",
       "        <td>PR</td>\n",
       "        <td>Public Use</td>\n",
       "        <td>18.134811</td>\n",
       "        <td>-65.493617</td>\n",
       "        <td>Yes</td>\n",
       "    </tr>\n",
       "    <tr>\n",
       "        <td>4</td>\n",
       "        <td>2883.0</td>\n",
       "        <td>X63</td>\n",
       "        <td>HUMACAO</td>\n",
       "        <td>Aeropuerto Regional De Humacao</td>\n",
       "        <td>Airport</td>\n",
       "        <td>ASO</td>\n",
       "        <td>#NAME?</td>\n",
       "        <td>HUMACAO</td>\n",
       "        <td>PR</td>\n",
       "        <td>Public Use</td>\n",
       "        <td>18.138017</td>\n",
       "        <td>-65.800718</td>\n",
       "        <td>Yes</td>\n",
       "    </tr>\n",
       "</table>"
      ],
      "text/plain": [
       "[(0L, 3443.0, u'STX', u'HENRY E ROHLSEN', u\"Henry E Rohlsen Int'l Airport\", u'Airport', u'ASO', u'-VIRGIN ISLANDS-', u'CHRISTIANSTED', u'VI', u'Public Use', 17.701556, -64.801722, u'Yes'),\n",
       " (1L, 5088.0, u'X64', u'PATILLAS', None, u'Airport', u'ASO', u'#NAME?', u'PATILLAS', u'PR', u'Public Use', 17.982189, -66.01933, u'No'),\n",
       " (2L, 2886.0, u'PSE', u'MERCEDITA', u'Aeropuerto Mercedita', u'Airport', u'ASO', u'#NAME?', u'PONCE', u'PR', u'Public Use', 18.008306, -66.563028, u'Yes'),\n",
       " (3L, 2879.0, u'VQS', u'ANTONIO RIVERA RODRIGUEZ', u'Aeropuerto Antonio Rivera Rodr\\xef\\xbf\\xbdguez', u'Airport', u'ASO', u'#NAME?', u'ISLA DE VIEQUES', u'PR', u'Public Use', 18.134811, -65.493617, u'Yes'),\n",
       " (4L, 2883.0, u'X63', u'HUMACAO', u'Aeropuerto Regional De Humacao', u'Airport', u'ASO', u'#NAME?', u'HUMACAO', u'PR', u'Public Use', 18.138017, -65.800718, u'Yes')]"
      ]
     },
     "execution_count": 182,
     "metadata": {},
     "output_type": "execute_result"
    }
   ],
   "source": [
    "%%sql\n",
    "select * from airports limit 5;"
   ]
  },
  {
   "cell_type": "code",
   "execution_count": 158,
   "metadata": {
    "collapsed": false
   },
   "outputs": [
    {
     "name": "stdout",
     "output_type": "stream",
     "text": [
      "5 rows affected.\n"
     ]
    },
    {
     "data": {
      "text/html": [
       "<table>\n",
       "    <tr>\n",
       "        <th>index</th>\n",
       "        <th>Airport</th>\n",
       "        <th>Year</th>\n",
       "        <th>Departure Cancellations</th>\n",
       "        <th>Arrival Cancellations</th>\n",
       "        <th>Departure Diversions</th>\n",
       "        <th>Arrival Diversions</th>\n",
       "    </tr>\n",
       "    <tr>\n",
       "        <td>0</td>\n",
       "        <td>ABQ</td>\n",
       "        <td>2004.0</td>\n",
       "        <td>242.0</td>\n",
       "        <td>235.0</td>\n",
       "        <td>71.0</td>\n",
       "        <td>46.0</td>\n",
       "    </tr>\n",
       "    <tr>\n",
       "        <td>1</td>\n",
       "        <td>ABQ</td>\n",
       "        <td>2005.0</td>\n",
       "        <td>221.0</td>\n",
       "        <td>190.0</td>\n",
       "        <td>61.0</td>\n",
       "        <td>33.0</td>\n",
       "    </tr>\n",
       "    <tr>\n",
       "        <td>2</td>\n",
       "        <td>ABQ</td>\n",
       "        <td>2006.0</td>\n",
       "        <td>392.0</td>\n",
       "        <td>329.0</td>\n",
       "        <td>71.0</td>\n",
       "        <td>124.0</td>\n",
       "    </tr>\n",
       "    <tr>\n",
       "        <td>3</td>\n",
       "        <td>ABQ</td>\n",
       "        <td>2007.0</td>\n",
       "        <td>366.0</td>\n",
       "        <td>304.0</td>\n",
       "        <td>107.0</td>\n",
       "        <td>45.0</td>\n",
       "    </tr>\n",
       "    <tr>\n",
       "        <td>4</td>\n",
       "        <td>ABQ</td>\n",
       "        <td>2008.0</td>\n",
       "        <td>333.0</td>\n",
       "        <td>300.0</td>\n",
       "        <td>79.0</td>\n",
       "        <td>42.0</td>\n",
       "    </tr>\n",
       "</table>"
      ],
      "text/plain": [
       "[(0L, u'ABQ', 2004.0, 242.0, 235.0, 71.0, 46.0),\n",
       " (1L, u'ABQ', 2005.0, 221.0, 190.0, 61.0, 33.0),\n",
       " (2L, u'ABQ', 2006.0, 392.0, 329.0, 71.0, 124.0),\n",
       " (3L, u'ABQ', 2007.0, 366.0, 304.0, 107.0, 45.0),\n",
       " (4L, u'ABQ', 2008.0, 333.0, 300.0, 79.0, 42.0)]"
      ]
     },
     "execution_count": 158,
     "metadata": {},
     "output_type": "execute_result"
    }
   ],
   "source": [
    "%%sql\n",
    "select * from airport_cancellations limit 5;"
   ]
  },
  {
   "cell_type": "code",
   "execution_count": 165,
   "metadata": {
    "collapsed": false
   },
   "outputs": [
    {
     "name": "stdout",
     "output_type": "stream",
     "text": [
      "5 rows affected.\n"
     ]
    },
    {
     "data": {
      "text/html": [
       "<table>\n",
       "    <tr>\n",
       "        <th>index</th>\n",
       "        <th>airport</th>\n",
       "        <th>year</th>\n",
       "        <th>departures for metric computation</th>\n",
       "        <th>arrivals for metric computation</th>\n",
       "        <th>percent on-time gate departures</th>\n",
       "        <th>percent on-time airport departures</th>\n",
       "        <th>percent on-time gate arrivals</th>\n",
       "        <th>average_gate_departure_delay</th>\n",
       "        <th>average_taxi_out_time</th>\n",
       "        <th>average taxi out delay</th>\n",
       "        <th>average airport departure delay</th>\n",
       "        <th>average airborne delay</th>\n",
       "        <th>average taxi in delay</th>\n",
       "        <th>average block delay</th>\n",
       "        <th>average gate arrival delay</th>\n",
       "    </tr>\n",
       "    <tr>\n",
       "        <td>0</td>\n",
       "        <td>ABQ</td>\n",
       "        <td>2004</td>\n",
       "        <td>53971</td>\n",
       "        <td>53818</td>\n",
       "        <td>0.803</td>\n",
       "        <td>0.7809</td>\n",
       "        <td>0.7921</td>\n",
       "        <td>10.38</td>\n",
       "        <td>9.89</td>\n",
       "        <td>2.43</td>\n",
       "        <td>12.1</td>\n",
       "        <td>2.46</td>\n",
       "        <td>0.83</td>\n",
       "        <td>2.55</td>\n",
       "        <td>10.87</td>\n",
       "    </tr>\n",
       "    <tr>\n",
       "        <td>1</td>\n",
       "        <td>ABQ</td>\n",
       "        <td>2005</td>\n",
       "        <td>51829</td>\n",
       "        <td>51877</td>\n",
       "        <td>0.814</td>\n",
       "        <td>0.7922</td>\n",
       "        <td>0.8001</td>\n",
       "        <td>9.6</td>\n",
       "        <td>9.79</td>\n",
       "        <td>2.29</td>\n",
       "        <td>11.2</td>\n",
       "        <td>2.26</td>\n",
       "        <td>0.89</td>\n",
       "        <td>2.34</td>\n",
       "        <td>10.24</td>\n",
       "    </tr>\n",
       "    <tr>\n",
       "        <td>2</td>\n",
       "        <td>ABQ</td>\n",
       "        <td>2006</td>\n",
       "        <td>49682</td>\n",
       "        <td>51199</td>\n",
       "        <td>0.7983</td>\n",
       "        <td>0.7756</td>\n",
       "        <td>0.7746</td>\n",
       "        <td>10.84</td>\n",
       "        <td>9.89</td>\n",
       "        <td>2.16</td>\n",
       "        <td>12.33</td>\n",
       "        <td>2.12</td>\n",
       "        <td>0.84</td>\n",
       "        <td>2.66</td>\n",
       "        <td>11.82</td>\n",
       "    </tr>\n",
       "    <tr>\n",
       "        <td>3</td>\n",
       "        <td>ABQ</td>\n",
       "        <td>2007</td>\n",
       "        <td>53255</td>\n",
       "        <td>53611</td>\n",
       "        <td>0.8005</td>\n",
       "        <td>0.7704</td>\n",
       "        <td>0.7647</td>\n",
       "        <td>11.29</td>\n",
       "        <td>10.34</td>\n",
       "        <td>2.4</td>\n",
       "        <td>12.95</td>\n",
       "        <td>2.19</td>\n",
       "        <td>1.29</td>\n",
       "        <td>3.06</td>\n",
       "        <td>12.71</td>\n",
       "    </tr>\n",
       "    <tr>\n",
       "        <td>4</td>\n",
       "        <td>ABQ</td>\n",
       "        <td>2008</td>\n",
       "        <td>49589</td>\n",
       "        <td>49512</td>\n",
       "        <td>0.8103</td>\n",
       "        <td>0.7844</td>\n",
       "        <td>0.7875</td>\n",
       "        <td>10.79</td>\n",
       "        <td>10.41</td>\n",
       "        <td>2.41</td>\n",
       "        <td>12.32</td>\n",
       "        <td>1.82</td>\n",
       "        <td>1.03</td>\n",
       "        <td>2.79</td>\n",
       "        <td>11.48</td>\n",
       "    </tr>\n",
       "</table>"
      ],
      "text/plain": [
       "[(0L, u'ABQ', 2004L, 53971L, 53818L, 0.803, 0.7809, 0.7921, 10.38, 9.89, 2.43, 12.1, 2.46, 0.83, 2.55, 10.87),\n",
       " (1L, u'ABQ', 2005L, 51829L, 51877L, 0.814, 0.7922, 0.8001, 9.6, 9.79, 2.29, 11.2, 2.26, 0.89, 2.34, 10.24),\n",
       " (2L, u'ABQ', 2006L, 49682L, 51199L, 0.7983, 0.7756, 0.7746, 10.84, 9.89, 2.16, 12.33, 2.12, 0.84, 2.66, 11.82),\n",
       " (3L, u'ABQ', 2007L, 53255L, 53611L, 0.8005, 0.7704, 0.7647, 11.29, 10.34, 2.4, 12.95, 2.19, 1.29, 3.06, 12.71),\n",
       " (4L, u'ABQ', 2008L, 49589L, 49512L, 0.8103, 0.7844, 0.7875, 10.79, 10.41, 2.41, 12.32, 1.82, 1.03, 2.79, 11.48)]"
      ]
     },
     "execution_count": 165,
     "metadata": {},
     "output_type": "execute_result"
    }
   ],
   "source": [
    "%%sql\n",
    "select * from airport_operations limit 5;"
   ]
  },
  {
   "cell_type": "code",
   "execution_count": 183,
   "metadata": {
    "collapsed": false
   },
   "outputs": [
    {
     "name": "stdout",
     "output_type": "stream",
     "text": [
      "Done.\n"
     ]
    },
    {
     "data": {
      "text/plain": [
       "[]"
      ]
     },
     "execution_count": 183,
     "metadata": {},
     "output_type": "execute_result"
    }
   ],
   "source": [
    "%%sql\n",
    "ALTER TABLE airports RENAME COLUMN \"LocID\" to loc_id;\n",
    "ALTER TABLE airport_cancellations RENAME COLUMN \"Airport\" to airport;"
   ]
  },
  {
   "cell_type": "code",
   "execution_count": 187,
   "metadata": {
    "collapsed": false,
    "scrolled": false
   },
   "outputs": [
    {
     "name": "stdout",
     "output_type": "stream",
     "text": [
      "10 rows affected.\n"
     ]
    },
    {
     "data": {
      "text/html": [
       "<table>\n",
       "    <tr>\n",
       "        <th>index</th>\n",
       "        <th>Key</th>\n",
       "        <th>loc_id</th>\n",
       "        <th>AP_NAME</th>\n",
       "        <th>ALIAS</th>\n",
       "        <th>Facility Type</th>\n",
       "        <th>faa</th>\n",
       "        <th>COUNTY</th>\n",
       "        <th>CITY</th>\n",
       "        <th>STATE</th>\n",
       "        <th>AP Type</th>\n",
       "        <th>Latitude</th>\n",
       "        <th>Longitude</th>\n",
       "        <th>Boundary Data Available</th>\n",
       "        <th>index_1</th>\n",
       "        <th>airport</th>\n",
       "        <th>Year</th>\n",
       "        <th>Departure Cancellations</th>\n",
       "        <th>Arrival Cancellations</th>\n",
       "        <th>Departure Diversions</th>\n",
       "        <th>Arrival Diversions</th>\n",
       "    </tr>\n",
       "    <tr>\n",
       "        <td>0</td>\n",
       "        <td>3443.0</td>\n",
       "        <td>STX</td>\n",
       "        <td>HENRY E ROHLSEN</td>\n",
       "        <td>Henry E Rohlsen Int'l Airport</td>\n",
       "        <td>Airport</td>\n",
       "        <td>ASO</td>\n",
       "        <td>-VIRGIN ISLANDS-</td>\n",
       "        <td>CHRISTIANSTED</td>\n",
       "        <td>VI</td>\n",
       "        <td>Public Use</td>\n",
       "        <td>17.701556</td>\n",
       "        <td>-64.801722</td>\n",
       "        <td>Yes</td>\n",
       "        <td>None</td>\n",
       "        <td>None</td>\n",
       "        <td>None</td>\n",
       "        <td>None</td>\n",
       "        <td>None</td>\n",
       "        <td>None</td>\n",
       "        <td>None</td>\n",
       "    </tr>\n",
       "    <tr>\n",
       "        <td>1</td>\n",
       "        <td>5088.0</td>\n",
       "        <td>X64</td>\n",
       "        <td>PATILLAS</td>\n",
       "        <td>None</td>\n",
       "        <td>Airport</td>\n",
       "        <td>ASO</td>\n",
       "        <td>#NAME?</td>\n",
       "        <td>PATILLAS</td>\n",
       "        <td>PR</td>\n",
       "        <td>Public Use</td>\n",
       "        <td>17.982189</td>\n",
       "        <td>-66.01933</td>\n",
       "        <td>No</td>\n",
       "        <td>None</td>\n",
       "        <td>None</td>\n",
       "        <td>None</td>\n",
       "        <td>None</td>\n",
       "        <td>None</td>\n",
       "        <td>None</td>\n",
       "        <td>None</td>\n",
       "    </tr>\n",
       "    <tr>\n",
       "        <td>2</td>\n",
       "        <td>2886.0</td>\n",
       "        <td>PSE</td>\n",
       "        <td>MERCEDITA</td>\n",
       "        <td>Aeropuerto Mercedita</td>\n",
       "        <td>Airport</td>\n",
       "        <td>ASO</td>\n",
       "        <td>#NAME?</td>\n",
       "        <td>PONCE</td>\n",
       "        <td>PR</td>\n",
       "        <td>Public Use</td>\n",
       "        <td>18.008306</td>\n",
       "        <td>-66.563028</td>\n",
       "        <td>Yes</td>\n",
       "        <td>None</td>\n",
       "        <td>None</td>\n",
       "        <td>None</td>\n",
       "        <td>None</td>\n",
       "        <td>None</td>\n",
       "        <td>None</td>\n",
       "        <td>None</td>\n",
       "    </tr>\n",
       "    <tr>\n",
       "        <td>3</td>\n",
       "        <td>2879.0</td>\n",
       "        <td>VQS</td>\n",
       "        <td>ANTONIO RIVERA RODRIGUEZ</td>\n",
       "        <td>Aeropuerto Antonio Rivera Rodrï¿½guez</td>\n",
       "        <td>Airport</td>\n",
       "        <td>ASO</td>\n",
       "        <td>#NAME?</td>\n",
       "        <td>ISLA DE VIEQUES</td>\n",
       "        <td>PR</td>\n",
       "        <td>Public Use</td>\n",
       "        <td>18.134811</td>\n",
       "        <td>-65.493617</td>\n",
       "        <td>Yes</td>\n",
       "        <td>None</td>\n",
       "        <td>None</td>\n",
       "        <td>None</td>\n",
       "        <td>None</td>\n",
       "        <td>None</td>\n",
       "        <td>None</td>\n",
       "        <td>None</td>\n",
       "    </tr>\n",
       "    <tr>\n",
       "        <td>4</td>\n",
       "        <td>2883.0</td>\n",
       "        <td>X63</td>\n",
       "        <td>HUMACAO</td>\n",
       "        <td>Aeropuerto Regional De Humacao</td>\n",
       "        <td>Airport</td>\n",
       "        <td>ASO</td>\n",
       "        <td>#NAME?</td>\n",
       "        <td>HUMACAO</td>\n",
       "        <td>PR</td>\n",
       "        <td>Public Use</td>\n",
       "        <td>18.138017</td>\n",
       "        <td>-65.800718</td>\n",
       "        <td>Yes</td>\n",
       "        <td>None</td>\n",
       "        <td>None</td>\n",
       "        <td>None</td>\n",
       "        <td>None</td>\n",
       "        <td>None</td>\n",
       "        <td>None</td>\n",
       "        <td>None</td>\n",
       "    </tr>\n",
       "    <tr>\n",
       "        <td>5</td>\n",
       "        <td>2884.0</td>\n",
       "        <td>RVR</td>\n",
       "        <td>JOSE APONTE DE LA TORRE</td>\n",
       "        <td>Aeropuerto Josï¿½ Aponte De La Torre</td>\n",
       "        <td>Airport</td>\n",
       "        <td>ASO</td>\n",
       "        <td>#NAME?</td>\n",
       "        <td>CEIBA</td>\n",
       "        <td>PR</td>\n",
       "        <td>Public Use</td>\n",
       "        <td>18.245269</td>\n",
       "        <td>-65.643381</td>\n",
       "        <td>Yes</td>\n",
       "        <td>None</td>\n",
       "        <td>None</td>\n",
       "        <td>None</td>\n",
       "        <td>None</td>\n",
       "        <td>None</td>\n",
       "        <td>None</td>\n",
       "        <td>None</td>\n",
       "    </tr>\n",
       "    <tr>\n",
       "        <td>6</td>\n",
       "        <td>2881.0</td>\n",
       "        <td>MAZ</td>\n",
       "        <td>EUGENIO MARIA DE HOSTOS</td>\n",
       "        <td>Aeropuerto Eugenio Marï¿½a De Hostos</td>\n",
       "        <td>Airport</td>\n",
       "        <td>ASO</td>\n",
       "        <td>#NAME?</td>\n",
       "        <td>MAYAGUEZ</td>\n",
       "        <td>PR</td>\n",
       "        <td>Public Use</td>\n",
       "        <td>18.255694</td>\n",
       "        <td>-67.148472</td>\n",
       "        <td>Yes</td>\n",
       "        <td>None</td>\n",
       "        <td>None</td>\n",
       "        <td>None</td>\n",
       "        <td>None</td>\n",
       "        <td>None</td>\n",
       "        <td>None</td>\n",
       "        <td>None</td>\n",
       "    </tr>\n",
       "    <tr>\n",
       "        <td>7</td>\n",
       "        <td>5087.0</td>\n",
       "        <td>X95</td>\n",
       "        <td>DIEGO JIMENEZ TORRES</td>\n",
       "        <td>None</td>\n",
       "        <td>Airport</td>\n",
       "        <td>ASO</td>\n",
       "        <td>#NAME?</td>\n",
       "        <td>FAJARDO</td>\n",
       "        <td>PR</td>\n",
       "        <td>Public Use</td>\n",
       "        <td>18.30801</td>\n",
       "        <td>-65.661828</td>\n",
       "        <td>No</td>\n",
       "        <td>None</td>\n",
       "        <td>None</td>\n",
       "        <td>None</td>\n",
       "        <td>None</td>\n",
       "        <td>None</td>\n",
       "        <td>None</td>\n",
       "        <td>None</td>\n",
       "    </tr>\n",
       "    <tr>\n",
       "        <td>8</td>\n",
       "        <td>5086.0</td>\n",
       "        <td>CPX</td>\n",
       "        <td>BENJAMIN RIVERA NORIEGA</td>\n",
       "        <td>None</td>\n",
       "        <td>Airport</td>\n",
       "        <td>ASO</td>\n",
       "        <td>#NAME?</td>\n",
       "        <td>ISLA DE CULEBRA</td>\n",
       "        <td>PR</td>\n",
       "        <td>Public Use</td>\n",
       "        <td>18.313289</td>\n",
       "        <td>-65.304324</td>\n",
       "        <td>No</td>\n",
       "        <td>None</td>\n",
       "        <td>None</td>\n",
       "        <td>None</td>\n",
       "        <td>None</td>\n",
       "        <td>None</td>\n",
       "        <td>None</td>\n",
       "        <td>None</td>\n",
       "    </tr>\n",
       "    <tr>\n",
       "        <td>9</td>\n",
       "        <td>3442.0</td>\n",
       "        <td>STT</td>\n",
       "        <td>CYRIL E KING</td>\n",
       "        <td>Cyril E King International Airport</td>\n",
       "        <td>Airport</td>\n",
       "        <td>ASO</td>\n",
       "        <td>-VIRGIN ISLANDS-</td>\n",
       "        <td>CHARLOTTE AMALIE</td>\n",
       "        <td>VI</td>\n",
       "        <td>Public Use</td>\n",
       "        <td>18.337306</td>\n",
       "        <td>-64.973361</td>\n",
       "        <td>Yes</td>\n",
       "        <td>None</td>\n",
       "        <td>None</td>\n",
       "        <td>None</td>\n",
       "        <td>None</td>\n",
       "        <td>None</td>\n",
       "        <td>None</td>\n",
       "        <td>None</td>\n",
       "    </tr>\n",
       "</table>"
      ],
      "text/plain": [
       "[(0L, 3443.0, u'STX', u'HENRY E ROHLSEN', u\"Henry E Rohlsen Int'l Airport\", u'Airport', u'ASO', u'-VIRGIN ISLANDS-', u'CHRISTIANSTED', u'VI', u'Public Use', 17.701556, -64.801722, u'Yes', None, None, None, None, None, None, None),\n",
       " (1L, 5088.0, u'X64', u'PATILLAS', None, u'Airport', u'ASO', u'#NAME?', u'PATILLAS', u'PR', u'Public Use', 17.982189, -66.01933, u'No', None, None, None, None, None, None, None),\n",
       " (2L, 2886.0, u'PSE', u'MERCEDITA', u'Aeropuerto Mercedita', u'Airport', u'ASO', u'#NAME?', u'PONCE', u'PR', u'Public Use', 18.008306, -66.563028, u'Yes', None, None, None, None, None, None, None),\n",
       " (3L, 2879.0, u'VQS', u'ANTONIO RIVERA RODRIGUEZ', u'Aeropuerto Antonio Rivera Rodr\\xef\\xbf\\xbdguez', u'Airport', u'ASO', u'#NAME?', u'ISLA DE VIEQUES', u'PR', u'Public Use', 18.134811, -65.493617, u'Yes', None, None, None, None, None, None, None),\n",
       " (4L, 2883.0, u'X63', u'HUMACAO', u'Aeropuerto Regional De Humacao', u'Airport', u'ASO', u'#NAME?', u'HUMACAO', u'PR', u'Public Use', 18.138017, -65.800718, u'Yes', None, None, None, None, None, None, None),\n",
       " (5L, 2884.0, u'RVR', u'JOSE APONTE DE LA TORRE', u'Aeropuerto Jos\\xef\\xbf\\xbd Aponte De La Torre', u'Airport', u'ASO', u'#NAME?', u'CEIBA', u'PR', u'Public Use', 18.245269, -65.643381, u'Yes', None, None, None, None, None, None, None),\n",
       " (6L, 2881.0, u'MAZ', u'EUGENIO MARIA DE HOSTOS', u'Aeropuerto Eugenio Mar\\xef\\xbf\\xbda De Hostos', u'Airport', u'ASO', u'#NAME?', u'MAYAGUEZ', u'PR', u'Public Use', 18.255694, -67.148472, u'Yes', None, None, None, None, None, None, None),\n",
       " (7L, 5087.0, u'X95', u'DIEGO JIMENEZ TORRES', None, u'Airport', u'ASO', u'#NAME?', u'FAJARDO', u'PR', u'Public Use', 18.30801, -65.661828, u'No', None, None, None, None, None, None, None),\n",
       " (8L, 5086.0, u'CPX', u'BENJAMIN RIVERA NORIEGA', None, u'Airport', u'ASO', u'#NAME?', u'ISLA DE CULEBRA', u'PR', u'Public Use', 18.313289, -65.304324, u'No', None, None, None, None, None, None, None),\n",
       " (9L, 3442.0, u'STT', u'CYRIL E KING', u'Cyril E King International Airport', u'Airport', u'ASO', u'-VIRGIN ISLANDS-', u'CHARLOTTE AMALIE', u'VI', u'Public Use', 18.337306, -64.973361, u'Yes', None, None, None, None, None, None, None)]"
      ]
     },
     "execution_count": 187,
     "metadata": {},
     "output_type": "execute_result"
    }
   ],
   "source": [
    "%%sql\n",
    "SELECT * from airports\n",
    "FULL JOIN airport_cancellations\n",
    "ON airports.loc_id = airport_cancellations.airport LIMIT 10;"
   ]
  },
  {
   "cell_type": "markdown",
   "metadata": {
    "focus": false,
    "id": "a5fa5f85-1cd6-4ab6-b936-93e9c951e1b7"
   },
   "source": [
    "Query the database for our intial data"
   ]
  },
  {
   "cell_type": "code",
   "execution_count": 189,
   "metadata": {
    "collapsed": true
   },
   "outputs": [],
   "source": [
    "cancellations = pd.read_sql_query(\"SELECT * from airports FULL JOIN airport_cancellations ON airports.loc_id = airport_cancellations.airport\", engine)"
   ]
  },
  {
   "cell_type": "markdown",
   "metadata": {
    "focus": false,
    "id": "0b511b59-41ea-478f-bf2d-7e392dc9edaa"
   },
   "source": [
    "#### 1.2 What are the risks and assumptions of our data? "
   ]
  },
  {
   "cell_type": "markdown",
   "metadata": {
    "focus": false,
    "id": "0936ff6a-6919-4436-9fc1-d6ef90d5ba9e"
   },
   "source": []
  },
  {
   "cell_type": "markdown",
   "metadata": {
    "focus": false,
    "id": "e97b4707-0f0e-4f6a-90ab-fbb634c2305d"
   },
   "source": [
    "### Part 2: Exploratory Data Analysis"
   ]
  },
  {
   "cell_type": "markdown",
   "metadata": {
    "focus": false,
    "id": "6be9cf88-1b92-4360-b424-a495d5e2d4ba"
   },
   "source": [
    "#### 2.1 Plot and Describe the Data"
   ]
  },
  {
   "cell_type": "code",
   "execution_count": 198,
   "metadata": {
    "collapsed": false,
    "focus": false,
    "id": "41ff90a9-0d50-4a8e-97c4-fe429fffc1f7"
   },
   "outputs": [
    {
     "data": {
      "text/html": [
       "<div>\n",
       "<table border=\"1\" class=\"dataframe\">\n",
       "  <thead>\n",
       "    <tr style=\"text-align: right;\">\n",
       "      <th></th>\n",
       "      <th>0</th>\n",
       "      <th>1</th>\n",
       "      <th>2</th>\n",
       "      <th>3</th>\n",
       "      <th>4</th>\n",
       "    </tr>\n",
       "  </thead>\n",
       "  <tbody>\n",
       "    <tr>\n",
       "      <th>index</th>\n",
       "      <td>1223</td>\n",
       "      <td>1223</td>\n",
       "      <td>1223</td>\n",
       "      <td>1223</td>\n",
       "      <td>1223</td>\n",
       "    </tr>\n",
       "    <tr>\n",
       "      <th>Key</th>\n",
       "      <td>2348</td>\n",
       "      <td>2348</td>\n",
       "      <td>2348</td>\n",
       "      <td>2348</td>\n",
       "      <td>2348</td>\n",
       "    </tr>\n",
       "    <tr>\n",
       "      <th>loc_id</th>\n",
       "      <td>ABQ</td>\n",
       "      <td>ABQ</td>\n",
       "      <td>ABQ</td>\n",
       "      <td>ABQ</td>\n",
       "      <td>ABQ</td>\n",
       "    </tr>\n",
       "    <tr>\n",
       "      <th>AP_NAME</th>\n",
       "      <td>ALBUQUERQUE INTL SUNPORT</td>\n",
       "      <td>ALBUQUERQUE INTL SUNPORT</td>\n",
       "      <td>ALBUQUERQUE INTL SUNPORT</td>\n",
       "      <td>ALBUQUERQUE INTL SUNPORT</td>\n",
       "      <td>ALBUQUERQUE INTL SUNPORT</td>\n",
       "    </tr>\n",
       "    <tr>\n",
       "      <th>ALIAS</th>\n",
       "      <td>Albuquerque Int'l Sunport</td>\n",
       "      <td>Albuquerque Int'l Sunport</td>\n",
       "      <td>Albuquerque Int'l Sunport</td>\n",
       "      <td>Albuquerque Int'l Sunport</td>\n",
       "      <td>Albuquerque Int'l Sunport</td>\n",
       "    </tr>\n",
       "    <tr>\n",
       "      <th>Facility Type</th>\n",
       "      <td>Airport</td>\n",
       "      <td>Airport</td>\n",
       "      <td>Airport</td>\n",
       "      <td>Airport</td>\n",
       "      <td>Airport</td>\n",
       "    </tr>\n",
       "    <tr>\n",
       "      <th>faa</th>\n",
       "      <td>ASW</td>\n",
       "      <td>ASW</td>\n",
       "      <td>ASW</td>\n",
       "      <td>ASW</td>\n",
       "      <td>ASW</td>\n",
       "    </tr>\n",
       "    <tr>\n",
       "      <th>COUNTY</th>\n",
       "      <td>BERNALILLO</td>\n",
       "      <td>BERNALILLO</td>\n",
       "      <td>BERNALILLO</td>\n",
       "      <td>BERNALILLO</td>\n",
       "      <td>BERNALILLO</td>\n",
       "    </tr>\n",
       "    <tr>\n",
       "      <th>CITY</th>\n",
       "      <td>ALBUQUERQUE</td>\n",
       "      <td>ALBUQUERQUE</td>\n",
       "      <td>ALBUQUERQUE</td>\n",
       "      <td>ALBUQUERQUE</td>\n",
       "      <td>ALBUQUERQUE</td>\n",
       "    </tr>\n",
       "    <tr>\n",
       "      <th>STATE</th>\n",
       "      <td>NM</td>\n",
       "      <td>NM</td>\n",
       "      <td>NM</td>\n",
       "      <td>NM</td>\n",
       "      <td>NM</td>\n",
       "    </tr>\n",
       "    <tr>\n",
       "      <th>AP Type</th>\n",
       "      <td>Federalized/Commercial</td>\n",
       "      <td>Federalized/Commercial</td>\n",
       "      <td>Federalized/Commercial</td>\n",
       "      <td>Federalized/Commercial</td>\n",
       "      <td>Federalized/Commercial</td>\n",
       "    </tr>\n",
       "    <tr>\n",
       "      <th>Latitude</th>\n",
       "      <td>35.0402</td>\n",
       "      <td>35.0402</td>\n",
       "      <td>35.0402</td>\n",
       "      <td>35.0402</td>\n",
       "      <td>35.0402</td>\n",
       "    </tr>\n",
       "    <tr>\n",
       "      <th>Longitude</th>\n",
       "      <td>-106.609</td>\n",
       "      <td>-106.609</td>\n",
       "      <td>-106.609</td>\n",
       "      <td>-106.609</td>\n",
       "      <td>-106.609</td>\n",
       "    </tr>\n",
       "    <tr>\n",
       "      <th>Boundary Data Available</th>\n",
       "      <td>Yes</td>\n",
       "      <td>Yes</td>\n",
       "      <td>Yes</td>\n",
       "      <td>Yes</td>\n",
       "      <td>Yes</td>\n",
       "    </tr>\n",
       "    <tr>\n",
       "      <th>index</th>\n",
       "      <td>0</td>\n",
       "      <td>1</td>\n",
       "      <td>2</td>\n",
       "      <td>3</td>\n",
       "      <td>4</td>\n",
       "    </tr>\n",
       "    <tr>\n",
       "      <th>airport</th>\n",
       "      <td>ABQ</td>\n",
       "      <td>ABQ</td>\n",
       "      <td>ABQ</td>\n",
       "      <td>ABQ</td>\n",
       "      <td>ABQ</td>\n",
       "    </tr>\n",
       "    <tr>\n",
       "      <th>Year</th>\n",
       "      <td>2004</td>\n",
       "      <td>2005</td>\n",
       "      <td>2006</td>\n",
       "      <td>2007</td>\n",
       "      <td>2008</td>\n",
       "    </tr>\n",
       "    <tr>\n",
       "      <th>Departure Cancellations</th>\n",
       "      <td>242</td>\n",
       "      <td>221</td>\n",
       "      <td>392</td>\n",
       "      <td>366</td>\n",
       "      <td>333</td>\n",
       "    </tr>\n",
       "    <tr>\n",
       "      <th>Arrival Cancellations</th>\n",
       "      <td>235</td>\n",
       "      <td>190</td>\n",
       "      <td>329</td>\n",
       "      <td>304</td>\n",
       "      <td>300</td>\n",
       "    </tr>\n",
       "    <tr>\n",
       "      <th>Departure Diversions</th>\n",
       "      <td>71</td>\n",
       "      <td>61</td>\n",
       "      <td>71</td>\n",
       "      <td>107</td>\n",
       "      <td>79</td>\n",
       "    </tr>\n",
       "    <tr>\n",
       "      <th>Arrival Diversions</th>\n",
       "      <td>46</td>\n",
       "      <td>33</td>\n",
       "      <td>124</td>\n",
       "      <td>45</td>\n",
       "      <td>42</td>\n",
       "    </tr>\n",
       "  </tbody>\n",
       "</table>\n",
       "</div>"
      ],
      "text/plain": [
       "                                                 0                          1  \\\n",
       "index                                         1223                       1223   \n",
       "Key                                           2348                       2348   \n",
       "loc_id                                         ABQ                        ABQ   \n",
       "AP_NAME                   ALBUQUERQUE INTL SUNPORT   ALBUQUERQUE INTL SUNPORT   \n",
       "ALIAS                    Albuquerque Int'l Sunport  Albuquerque Int'l Sunport   \n",
       "Facility Type                              Airport                    Airport   \n",
       "faa                                            ASW                        ASW   \n",
       "COUNTY                                  BERNALILLO                 BERNALILLO   \n",
       "CITY                                   ALBUQUERQUE                ALBUQUERQUE   \n",
       "STATE                                           NM                         NM   \n",
       "AP Type                     Federalized/Commercial     Federalized/Commercial   \n",
       "Latitude                                   35.0402                    35.0402   \n",
       "Longitude                                 -106.609                   -106.609   \n",
       "Boundary Data Available                        Yes                        Yes   \n",
       "index                                            0                          1   \n",
       "airport                                        ABQ                        ABQ   \n",
       "Year                                          2004                       2005   \n",
       "Departure Cancellations                        242                        221   \n",
       "Arrival Cancellations                          235                        190   \n",
       "Departure Diversions                            71                         61   \n",
       "Arrival Diversions                              46                         33   \n",
       "\n",
       "                                                 2                          3  \\\n",
       "index                                         1223                       1223   \n",
       "Key                                           2348                       2348   \n",
       "loc_id                                         ABQ                        ABQ   \n",
       "AP_NAME                   ALBUQUERQUE INTL SUNPORT   ALBUQUERQUE INTL SUNPORT   \n",
       "ALIAS                    Albuquerque Int'l Sunport  Albuquerque Int'l Sunport   \n",
       "Facility Type                              Airport                    Airport   \n",
       "faa                                            ASW                        ASW   \n",
       "COUNTY                                  BERNALILLO                 BERNALILLO   \n",
       "CITY                                   ALBUQUERQUE                ALBUQUERQUE   \n",
       "STATE                                           NM                         NM   \n",
       "AP Type                     Federalized/Commercial     Federalized/Commercial   \n",
       "Latitude                                   35.0402                    35.0402   \n",
       "Longitude                                 -106.609                   -106.609   \n",
       "Boundary Data Available                        Yes                        Yes   \n",
       "index                                            2                          3   \n",
       "airport                                        ABQ                        ABQ   \n",
       "Year                                          2006                       2007   \n",
       "Departure Cancellations                        392                        366   \n",
       "Arrival Cancellations                          329                        304   \n",
       "Departure Diversions                            71                        107   \n",
       "Arrival Diversions                             124                         45   \n",
       "\n",
       "                                                 4  \n",
       "index                                         1223  \n",
       "Key                                           2348  \n",
       "loc_id                                         ABQ  \n",
       "AP_NAME                   ALBUQUERQUE INTL SUNPORT  \n",
       "ALIAS                    Albuquerque Int'l Sunport  \n",
       "Facility Type                              Airport  \n",
       "faa                                            ASW  \n",
       "COUNTY                                  BERNALILLO  \n",
       "CITY                                   ALBUQUERQUE  \n",
       "STATE                                           NM  \n",
       "AP Type                     Federalized/Commercial  \n",
       "Latitude                                   35.0402  \n",
       "Longitude                                 -106.609  \n",
       "Boundary Data Available                        Yes  \n",
       "index                                            4  \n",
       "airport                                        ABQ  \n",
       "Year                                          2008  \n",
       "Departure Cancellations                        333  \n",
       "Arrival Cancellations                          300  \n",
       "Departure Diversions                            79  \n",
       "Arrival Diversions                              42  "
      ]
     },
     "execution_count": 198,
     "metadata": {},
     "output_type": "execute_result"
    }
   ],
   "source": [
    "import numpy as np\n",
    "import matplotlib.pyplot as plt\n",
    "%matplotlib inline\n",
    "plt.style.use('fivethirtyeight')\n",
    "\n",
    "cancellations.head().T"
   ]
  },
  {
   "cell_type": "code",
   "execution_count": 194,
   "metadata": {
    "collapsed": false
   },
   "outputs": [
    {
     "data": {
      "text/html": [
       "<div>\n",
       "<table border=\"1\" class=\"dataframe\">\n",
       "  <thead>\n",
       "    <tr style=\"text-align: right;\">\n",
       "      <th></th>\n",
       "      <th>index</th>\n",
       "      <th>Key</th>\n",
       "      <th>Latitude</th>\n",
       "      <th>Longitude</th>\n",
       "      <th>index</th>\n",
       "      <th>Year</th>\n",
       "      <th>Departure Cancellations</th>\n",
       "      <th>Arrival Cancellations</th>\n",
       "      <th>Departure Diversions</th>\n",
       "      <th>Arrival Diversions</th>\n",
       "    </tr>\n",
       "  </thead>\n",
       "  <tbody>\n",
       "    <tr>\n",
       "      <th>count</th>\n",
       "      <td>5898.000000</td>\n",
       "      <td>5895.000000</td>\n",
       "      <td>5895.000000</td>\n",
       "      <td>5895.000000</td>\n",
       "      <td>805.000000</td>\n",
       "      <td>805.000000</td>\n",
       "      <td>805.000000</td>\n",
       "      <td>805.000000</td>\n",
       "      <td>805.000000</td>\n",
       "      <td>805.000000</td>\n",
       "    </tr>\n",
       "    <tr>\n",
       "      <th>mean</th>\n",
       "      <td>2487.853001</td>\n",
       "      <td>2652.801187</td>\n",
       "      <td>40.145509</td>\n",
       "      <td>-98.353136</td>\n",
       "      <td>402.000000</td>\n",
       "      <td>2008.986335</td>\n",
       "      <td>1292.038509</td>\n",
       "      <td>1333.124224</td>\n",
       "      <td>173.315528</td>\n",
       "      <td>169.413665</td>\n",
       "    </tr>\n",
       "    <tr>\n",
       "      <th>std</th>\n",
       "      <td>1489.773874</td>\n",
       "      <td>1485.360452</td>\n",
       "      <td>7.958860</td>\n",
       "      <td>20.954400</td>\n",
       "      <td>232.527776</td>\n",
       "      <td>3.158116</td>\n",
       "      <td>1835.961943</td>\n",
       "      <td>1975.224868</td>\n",
       "      <td>172.345539</td>\n",
       "      <td>228.521615</td>\n",
       "    </tr>\n",
       "    <tr>\n",
       "      <th>min</th>\n",
       "      <td>0.000000</td>\n",
       "      <td>203.000000</td>\n",
       "      <td>17.701556</td>\n",
       "      <td>-177.381308</td>\n",
       "      <td>0.000000</td>\n",
       "      <td>2004.000000</td>\n",
       "      <td>0.000000</td>\n",
       "      <td>0.000000</td>\n",
       "      <td>0.000000</td>\n",
       "      <td>0.000000</td>\n",
       "    </tr>\n",
       "    <tr>\n",
       "      <th>25%</th>\n",
       "      <td>1188.250000</td>\n",
       "      <td>1345.500000</td>\n",
       "      <td>34.887222</td>\n",
       "      <td>-109.982025</td>\n",
       "      <td>201.000000</td>\n",
       "      <td>2006.000000</td>\n",
       "      <td>349.000000</td>\n",
       "      <td>314.000000</td>\n",
       "      <td>62.000000</td>\n",
       "      <td>41.000000</td>\n",
       "    </tr>\n",
       "    <tr>\n",
       "      <th>50%</th>\n",
       "      <td>2482.500000</td>\n",
       "      <td>2579.000000</td>\n",
       "      <td>39.844210</td>\n",
       "      <td>-93.676632</td>\n",
       "      <td>402.000000</td>\n",
       "      <td>2009.000000</td>\n",
       "      <td>663.000000</td>\n",
       "      <td>642.000000</td>\n",
       "      <td>110.000000</td>\n",
       "      <td>84.000000</td>\n",
       "    </tr>\n",
       "    <tr>\n",
       "      <th>75%</th>\n",
       "      <td>3731.750000</td>\n",
       "      <td>3892.500000</td>\n",
       "      <td>43.532770</td>\n",
       "      <td>-83.672680</td>\n",
       "      <td>603.000000</td>\n",
       "      <td>2012.000000</td>\n",
       "      <td>1472.000000</td>\n",
       "      <td>1523.000000</td>\n",
       "      <td>236.000000</td>\n",
       "      <td>190.000000</td>\n",
       "    </tr>\n",
       "    <tr>\n",
       "      <th>max</th>\n",
       "      <td>5166.000000</td>\n",
       "      <td>5375.000000</td>\n",
       "      <td>71.284889</td>\n",
       "      <td>-64.801722</td>\n",
       "      <td>804.000000</td>\n",
       "      <td>2014.000000</td>\n",
       "      <td>16618.000000</td>\n",
       "      <td>17571.000000</td>\n",
       "      <td>1064.000000</td>\n",
       "      <td>1948.000000</td>\n",
       "    </tr>\n",
       "  </tbody>\n",
       "</table>\n",
       "</div>"
      ],
      "text/plain": [
       "             index          Key     Latitude    Longitude       index  \\\n",
       "count  5898.000000  5895.000000  5895.000000  5895.000000  805.000000   \n",
       "mean   2487.853001  2652.801187    40.145509   -98.353136  402.000000   \n",
       "std    1489.773874  1485.360452     7.958860    20.954400  232.527776   \n",
       "min       0.000000   203.000000    17.701556  -177.381308    0.000000   \n",
       "25%    1188.250000  1345.500000    34.887222  -109.982025  201.000000   \n",
       "50%    2482.500000  2579.000000    39.844210   -93.676632  402.000000   \n",
       "75%    3731.750000  3892.500000    43.532770   -83.672680  603.000000   \n",
       "max    5166.000000  5375.000000    71.284889   -64.801722  804.000000   \n",
       "\n",
       "              Year  Departure Cancellations  Arrival Cancellations  \\\n",
       "count   805.000000               805.000000             805.000000   \n",
       "mean   2008.986335              1292.038509            1333.124224   \n",
       "std       3.158116              1835.961943            1975.224868   \n",
       "min    2004.000000                 0.000000               0.000000   \n",
       "25%    2006.000000               349.000000             314.000000   \n",
       "50%    2009.000000               663.000000             642.000000   \n",
       "75%    2012.000000              1472.000000            1523.000000   \n",
       "max    2014.000000             16618.000000           17571.000000   \n",
       "\n",
       "       Departure Diversions  Arrival Diversions  \n",
       "count            805.000000          805.000000  \n",
       "mean             173.315528          169.413665  \n",
       "std              172.345539          228.521615  \n",
       "min                0.000000            0.000000  \n",
       "25%               62.000000           41.000000  \n",
       "50%              110.000000           84.000000  \n",
       "75%              236.000000          190.000000  \n",
       "max             1064.000000         1948.000000  "
      ]
     },
     "execution_count": 194,
     "metadata": {},
     "output_type": "execute_result"
    }
   ],
   "source": [
    "cancellations.describe()"
   ]
  },
  {
   "cell_type": "code",
   "execution_count": 201,
   "metadata": {
    "collapsed": false
   },
   "outputs": [
    {
     "data": {
      "text/plain": [
       "<matplotlib.text.Text at 0x11a0480d0>"
      ]
     },
     "execution_count": 201,
     "metadata": {},
     "output_type": "execute_result"
    },
    {
     "data": {
      "image/png": "[encoded data removed]",
      "text/plain": [
       "<matplotlib.figure.Figure at 0x11a0c2150>"
      ]
     },
     "metadata": {},
     "output_type": "display_data"
    }
   ],
   "source": [
    "cancellations.Year.hist()\n",
    "plt.title('Distribution Of Year')"
   ]
  },
  {
   "cell_type": "code",
   "execution_count": 211,
   "metadata": {
    "collapsed": false
   },
   "outputs": [
    {
     "ename": "TypeError",
     "evalue": "You have to supply one of 'by' and 'level'",
     "output_type": "error",
     "traceback": [
      "\u001b[0;31m---------------------------------------------------------------------------\u001b[0m",
      "\u001b[0;31mTypeError\u001b[0m                                 Traceback (most recent call last)",
      "\u001b[0;32m<ipython-input-211-f8afd504a52d>\u001b[0m in \u001b[0;36m<module>\u001b[0;34m()\u001b[0m\n\u001b[0;32m----> 1\u001b[0;31m \u001b[0mcancellations\u001b[0m\u001b[0;34m.\u001b[0m\u001b[0mgroupby\u001b[0m\u001b[0;34m(\u001b[0m\u001b[0;34m)\u001b[0m\u001b[0;34m.\u001b[0m\u001b[0mCOUNTY\u001b[0m\u001b[0;34m.\u001b[0m\u001b[0mhist\u001b[0m\u001b[0;34m(\u001b[0m\u001b[0;34m)\u001b[0m\u001b[0;34m\u001b[0m\u001b[0m\n\u001b[0m\u001b[1;32m      2\u001b[0m \u001b[0mplt\u001b[0m\u001b[0;34m.\u001b[0m\u001b[0mtitle\u001b[0m\u001b[0;34m(\u001b[0m\u001b[0;34m'Distribution Of Year'\u001b[0m\u001b[0;34m)\u001b[0m\u001b[0;34m\u001b[0m\u001b[0m\n",
      "\u001b[0;32m/Users/Lydia/anaconda/lib/python2.7/site-packages/pandas/core/generic.pyc\u001b[0m in \u001b[0;36mgroupby\u001b[0;34m(self, by, axis, level, as_index, sort, group_keys, squeeze)\u001b[0m\n\u001b[1;32m   3743\u001b[0m \u001b[0;34m\u001b[0m\u001b[0m\n\u001b[1;32m   3744\u001b[0m         \u001b[0;32mif\u001b[0m \u001b[0mlevel\u001b[0m \u001b[0;32mis\u001b[0m \u001b[0mNone\u001b[0m \u001b[0;32mand\u001b[0m \u001b[0mby\u001b[0m \u001b[0;32mis\u001b[0m \u001b[0mNone\u001b[0m\u001b[0;34m:\u001b[0m\u001b[0;34m\u001b[0m\u001b[0m\n\u001b[0;32m-> 3745\u001b[0;31m             \u001b[0;32mraise\u001b[0m \u001b[0mTypeError\u001b[0m\u001b[0;34m(\u001b[0m\u001b[0;34m\"You have to supply one of 'by' and 'level'\"\u001b[0m\u001b[0;34m)\u001b[0m\u001b[0;34m\u001b[0m\u001b[0m\n\u001b[0m\u001b[1;32m   3746\u001b[0m         \u001b[0maxis\u001b[0m \u001b[0;34m=\u001b[0m \u001b[0mself\u001b[0m\u001b[0;34m.\u001b[0m\u001b[0m_get_axis_number\u001b[0m\u001b[0;34m(\u001b[0m\u001b[0maxis\u001b[0m\u001b[0;34m)\u001b[0m\u001b[0;34m\u001b[0m\u001b[0m\n\u001b[1;32m   3747\u001b[0m         return groupby(self, by=by, axis=axis, level=level, as_index=as_index,\n",
      "\u001b[0;31mTypeError\u001b[0m: You have to supply one of 'by' and 'level'"
     ]
    }
   ],
   "source": [
    "cancellations.groupby().COUNTY.hist()\n",
    "plt.title('Distribution Of Year')"
   ]
  },
  {
   "cell_type": "markdown",
   "metadata": {
    "focus": false,
    "id": "3d12188d-3aa9-4d47-a0e8-b5d6e8f071de"
   },
   "source": [
    "#### Are there any unique values? "
   ]
  },
  {
   "cell_type": "code",
   "execution_count": null,
   "metadata": {
    "collapsed": true,
    "focus": false,
    "id": "d76cfc84-4d16-4f6f-aca8-3dc77d3b8f5c"
   },
   "outputs": [],
   "source": []
  },
  {
   "cell_type": "markdown",
   "metadata": {
    "focus": false,
    "id": "e2ddc27c-94d6-4ab1-95ef-1093bb2726b0"
   },
   "source": [
    "### Part 3: Data Mining"
   ]
  },
  {
   "cell_type": "markdown",
   "metadata": {
    "focus": false,
    "id": "a746fd8c-fdb0-45c3-9e17-ad4c89360055"
   },
   "source": [
    "#### 3.1 Create Dummy Variables"
   ]
  },
  {
   "cell_type": "code",
   "execution_count": null,
   "metadata": {
    "collapsed": true,
    "focus": false,
    "id": "eae97f78-3695-4777-91c5-f282dfd26e96"
   },
   "outputs": [],
   "source": []
  },
  {
   "cell_type": "markdown",
   "metadata": {
    "focus": false,
    "id": "c9b12f39-5410-42d7-aff9-859c0b2ccb70"
   },
   "source": [
    "#### 3.2 Format and Clean the Data"
   ]
  },
  {
   "cell_type": "code",
   "execution_count": null,
   "metadata": {
    "collapsed": true,
    "focus": false,
    "id": "c2f083d5-edf1-4380-a245-13c77315daa7"
   },
   "outputs": [],
   "source": []
  },
  {
   "cell_type": "markdown",
   "metadata": {
    "focus": false,
    "id": "27db8e3b-27d2-4420-bbab-1ddbba3dc3e5"
   },
   "source": [
    "### Part 4: Define the Data"
   ]
  },
  {
   "cell_type": "markdown",
   "metadata": {
    "focus": false,
    "id": "9bcb3ba6-8c35-470c-a821-47d7ba6a32f2"
   },
   "source": [
    "#### 4.1 Confirm that the dataset has a normal distribution. How can you tell? "
   ]
  },
  {
   "cell_type": "code",
   "execution_count": null,
   "metadata": {
    "collapsed": true,
    "focus": false,
    "id": "9c365cbd-7b6d-46bf-b4e4-b0e2e7bd5ff6"
   },
   "outputs": [],
   "source": []
  },
  {
   "cell_type": "markdown",
   "metadata": {
    "focus": false,
    "id": "17457da4-1175-4348-b10a-99f41f7a24dd"
   },
   "source": [
    "#### 4.2 Find correlations in the data"
   ]
  },
  {
   "cell_type": "code",
   "execution_count": null,
   "metadata": {
    "collapsed": true,
    "focus": false,
    "id": "78003f34-c0d8-40f6-bafe-e0892df3f1ca"
   },
   "outputs": [],
   "source": []
  },
  {
   "cell_type": "markdown",
   "metadata": {
    "focus": false,
    "id": "886b49bf-d7fa-41b0-b94c-740345580d88"
   },
   "source": [
    "#### 4.3 What is the value of understanding correlations before PCA? "
   ]
  },
  {
   "cell_type": "markdown",
   "metadata": {
    "focus": false,
    "id": "192df272-c2b1-46da-bcfa-c2b02d7445a8"
   },
   "source": [
    "Answer: "
   ]
  },
  {
   "cell_type": "markdown",
   "metadata": {
    "focus": false,
    "id": "904cda18-4a60-4b05-8502-139beb44c1f0"
   },
   "source": [
    "#### 4.4 Validate your findings using statistical analysis"
   ]
  },
  {
   "cell_type": "code",
   "execution_count": null,
   "metadata": {
    "collapsed": true,
    "focus": false,
    "id": "d2f5bd48-a2c8-4511-b3c6-fcb4889db4a7"
   },
   "outputs": [],
   "source": []
  },
  {
   "cell_type": "markdown",
   "metadata": {
    "focus": false,
    "id": "87689b59-fda0-4a07-a9d3-95936deaf8ee"
   },
   "source": [
    "#### 4.5 How can you improve your overall analysis? "
   ]
  },
  {
   "cell_type": "markdown",
   "metadata": {
    "focus": false,
    "id": "000bc40d-e033-4621-82a4-e09717947fb3"
   },
   "source": [
    "Answer: "
   ]
  },
  {
   "cell_type": "markdown",
   "metadata": {
    "focus": false,
    "id": "cea5d879-f180-448a-bd50-b30b2b7d6d28"
   },
   "source": [
    "### Part 5: Perform a PCA"
   ]
  },
  {
   "cell_type": "markdown",
   "metadata": {
    "focus": false,
    "id": "27c1212c-3490-45ff-a6da-501075f3eee5"
   },
   "source": [
    "#### 5.1 Conduct the PCA"
   ]
  },
  {
   "cell_type": "code",
   "execution_count": null,
   "metadata": {
    "collapsed": true,
    "focus": false,
    "id": "a8e7ac46-ba4f-47a8-99f8-b67a7f7e108e"
   },
   "outputs": [],
   "source": []
  },
  {
   "cell_type": "code",
   "execution_count": null,
   "metadata": {
    "collapsed": true,
    "focus": false,
    "id": "98fd6a42-89e0-4621-a70d-1e2c8c4bb975"
   },
   "outputs": [],
   "source": []
  },
  {
   "cell_type": "markdown",
   "metadata": {},
   "source": [
    "### Part 6: Additional Analysis\n",
    "Include any other models you'd like to run here. These can include regressions, classifications, or clusters. "
   ]
  },
  {
   "cell_type": "code",
   "execution_count": null,
   "metadata": {
    "collapsed": true
   },
   "outputs": [],
   "source": []
  },
  {
   "cell_type": "code",
   "execution_count": null,
   "metadata": {
    "collapsed": true
   },
   "outputs": [],
   "source": []
  },
  {
   "cell_type": "markdown",
   "metadata": {
    "focus": false,
    "id": "023d9120-1eb3-4f20-b083-5a8fa1605f06"
   },
   "source": [
    "### Part 7: Write an analysis plan of your findings "
   ]
  },
  {
   "cell_type": "markdown",
   "metadata": {
    "focus": false,
    "id": "dc0ce0b7-c246-4d76-a01d-88fa0d37fe95"
   },
   "source": [
    "Create a writeup on the interpretation of findings including an executive summary with conclusions and next steps. Put it on your blog, and include the link here."
   ]
  },
  {
   "cell_type": "markdown",
   "metadata": {
    "focus": false,
    "id": "140af42e-0757-400e-ae39-0410a54d2581"
   },
   "source": []
  },
  {
   "cell_type": "markdown",
   "metadata": {},
   "source": [
    "Which operational features are most correlated with delays?"
   ]
  },
  {
   "cell_type": "markdown",
   "metadata": {},
   "source": [
    " "
   ]
  },
  {
   "cell_type": "markdown",
   "metadata": {},
   "source": [
    "What should the airport's next steps be?"
   ]
  },
  {
   "cell_type": "markdown",
   "metadata": {},
   "source": [
    " "
   ]
  },
  {
   "cell_type": "markdown",
   "metadata": {
    "focus": false,
    "id": "8e08640c-4901-4724-9805-32c518521b2f"
   },
   "source": [
    "### Bonus: Copy your Database to AWS "
   ]
  },
  {
   "cell_type": "markdown",
   "metadata": {
    "focus": false,
    "id": "bf5d7088-46cd-4c47-9fcc-c1fd200cd164"
   },
   "source": [
    "Make sure to properly document all of the features of your dataset"
   ]
  },
  {
   "cell_type": "code",
   "execution_count": null,
   "metadata": {
    "collapsed": true,
    "focus": false,
    "id": "d181acff-8a70-40e9-8e39-fdc2b95550a2"
   },
   "outputs": [],
   "source": []
  },
  {
   "cell_type": "markdown",
   "metadata": {
    "focus": false,
    "id": "63387c7b-3c90-4732-808c-298225e1c0fb"
   },
   "source": [
    "### Bonus: Create a 3-Dimensional Plot of your new dataset with PCA applied"
   ]
  },
  {
   "cell_type": "code",
   "execution_count": null,
   "metadata": {
    "collapsed": true,
    "focus": false,
    "id": "b6fece51-aa23-4572-8d1d-c9c83701899d"
   },
   "outputs": [],
   "source": []
  }
 ],
 "metadata": {
  "kernelspec": {
   "display_name": "Python 2",
   "language": "python",
   "name": "python2"
  },
  "language_info": {
   "codemirror_mode": {
    "name": "ipython",
    "version": 2
   },
   "file_extension": ".py",
   "mimetype": "text/x-python",
   "name": "python",
   "nbconvert_exporter": "python",
   "pygments_lexer": "ipython2",
   "version": "2.7.12"
  }
 },
 "nbformat": 4,
 "nbformat_minor": 0
}
